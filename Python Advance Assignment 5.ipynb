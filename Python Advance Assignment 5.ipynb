{
 "cells": [
  {
   "cell_type": "code",
   "execution_count": null,
   "id": "f1f84803-bd43-4ca4-9a5b-be73a384e4d5",
   "metadata": {},
   "outputs": [],
   "source": [
    "#1. What is the meaning of multiple inheritance?\n",
    "\n",
    "\n",
    "Ans. Inheritence is nothing but reusing the code of Parent class by the child class. \n",
    "Similary when a child class inherits its properties from multiple Parent classes this scenario is called Multiple Inheritence."
   ]
  },
  {
   "cell_type": "code",
   "execution_count": null,
   "id": "34025db1-1220-43f4-9ccb-59aab1e0b87a",
   "metadata": {},
   "outputs": [],
   "source": [
    "#2. What is the concept of delegation?\n",
    "\n",
    "Ans. Delegation provides a proxy object for any class thay you want on top of the main class. \n",
    "its like a wrapper to your class so that you can access limited resources of the main class."
   ]
  },
  {
   "cell_type": "code",
   "execution_count": null,
   "id": "766ec592-6b28-4ecf-9041-14957381b39f",
   "metadata": {},
   "outputs": [],
   "source": [
    "#3. What is the concept of composition?\n",
    "\n",
    "Ans. In the concept of Composition, a class refers to one or more other classes by using instances of those classes as a instance variable. \n",
    "irrespective of inheritence in this approach all the parent class members are not inherited into child class, but only required methods from a class are used by using class instances."
   ]
  },
  {
   "cell_type": "code",
   "execution_count": null,
   "id": "33c38a6b-1cad-425d-af34-d56a1982d030",
   "metadata": {},
   "outputs": [],
   "source": [
    "#4. What are bound methods and how do we use them?\n",
    "\n",
    "Ans. If a function is an attribute of class and it is accessed via the instances, they are called bound methods A bound method is one that has self as its first argument"
   ]
  },
  {
   "cell_type": "code",
   "execution_count": null,
   "id": "69b1c265-34f3-4bec-8159-d084cf378bcb",
   "metadata": {},
   "outputs": [],
   "source": [
    "#5. What is the purpose of pseudoprivate attributes?\n",
    "\n",
    "Ans. Pseudoprivate attributes are also useful in larger frameworks or tools, both to avoid introducing new method names that might accidentally hide definitions elsewhere in the class tree and to reduce the chance of internal methods being replaced by names defined lower in the tree. \n",
    "If a method is intended for use only within a class that may be mixed into other classes, the double underscore prefix ensures that the method won't interfere with other names in the tree, especially in multiple-inheritance scenarios"
   ]
  }
 ],
 "metadata": {
  "kernelspec": {
   "display_name": "Python 3 (ipykernel)",
   "language": "python",
   "name": "python3"
  },
  "language_info": {
   "codemirror_mode": {
    "name": "ipython",
    "version": 3
   },
   "file_extension": ".py",
   "mimetype": "text/x-python",
   "name": "python",
   "nbconvert_exporter": "python",
   "pygments_lexer": "ipython3",
   "version": "3.10.6"
  }
 },
 "nbformat": 4,
 "nbformat_minor": 5
}
